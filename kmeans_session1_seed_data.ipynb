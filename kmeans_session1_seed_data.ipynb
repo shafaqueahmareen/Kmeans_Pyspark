{
  "nbformat": 4,
  "nbformat_minor": 0,
  "metadata": {
    "colab": {
      "provenance": [],
      "gpuType": "T4",
      "include_colab_link": true
    },
    "kernelspec": {
      "name": "python3",
      "display_name": "Python 3"
    },
    "language_info": {
      "name": "python"
    },
    "accelerator": "GPU"
  },
  "cells": [
    {
      "cell_type": "markdown",
      "metadata": {
        "id": "view-in-github",
        "colab_type": "text"
      },
      "source": [
        "<a href=\"https://colab.research.google.com/github/shafaqueahmareen/Kmeans_Pyspark/blob/main/kmeans_session1_seed_data.ipynb\" target=\"_parent\"><img src=\"https://colab.research.google.com/assets/colab-badge.svg\" alt=\"Open In Colab\"/></a>"
      ]
    },
    {
      "cell_type": "code",
      "execution_count": null,
      "metadata": {
        "colab": {
          "base_uri": "https://localhost:8080/"
        },
        "id": "SnRc1QjPFX-O",
        "outputId": "bc7dc41b-090f-4b44-ca46-4374169bf9f8"
      },
      "outputs": [
        {
          "output_type": "stream",
          "name": "stdout",
          "text": [
            "Collecting pyspark\n",
            "  Downloading pyspark-3.5.0.tar.gz (316.9 MB)\n",
            "\u001b[2K     \u001b[90m━━━━━━━━━━━━━━━━━━━━━━━━━━━━━━━━━━━━━━━━\u001b[0m \u001b[32m316.9/316.9 MB\u001b[0m \u001b[31m3.8 MB/s\u001b[0m eta \u001b[36m0:00:00\u001b[0m\n",
            "\u001b[?25h  Preparing metadata (setup.py) ... \u001b[?25l\u001b[?25hdone\n",
            "Requirement already satisfied: py4j==0.10.9.7 in /usr/local/lib/python3.10/dist-packages (from pyspark) (0.10.9.7)\n",
            "Building wheels for collected packages: pyspark\n",
            "  Building wheel for pyspark (setup.py) ... \u001b[?25l\u001b[?25hdone\n",
            "  Created wheel for pyspark: filename=pyspark-3.5.0-py2.py3-none-any.whl size=317425345 sha256=6ce205c54d4adeb7a195e570bda7b5f4ae4169b4d1f3673211ebd82b213dbbfd\n",
            "  Stored in directory: /root/.cache/pip/wheels/41/4e/10/c2cf2467f71c678cfc8a6b9ac9241e5e44a01940da8fbb17fc\n",
            "Successfully built pyspark\n",
            "Installing collected packages: pyspark\n",
            "Successfully installed pyspark-3.5.0\n"
          ]
        }
      ],
      "source": [
        "!pip install pyspark"
      ]
    },
    {
      "cell_type": "code",
      "source": [
        "from pyspark.sql import SparkSession\n",
        "from pyspark.ml.clustering import KMeans\n",
        "from pyspark.ml.feature import VectorAssembler\n",
        "from pyspark.ml.feature import StandardScaler\n",
        "\n",
        "# create the spark session\n",
        "spark  = SparkSession.builder.appName('KmeansExample').getOrCreate()\n",
        "\n",
        "# read the dataset\n",
        "path = '/content/seeds_dataset.csv'\n",
        "\n",
        "data = spark.read.csv(path,header=True,inferSchema=True)\n",
        "data.show()\n",
        "\n"
      ],
      "metadata": {
        "colab": {
          "base_uri": "https://localhost:8080/"
        },
        "id": "5zE6iF6wWLQx",
        "outputId": "a77def63-59e8-485b-c3d1-636c238840bf"
      },
      "execution_count": null,
      "outputs": [
        {
          "output_type": "stream",
          "name": "stdout",
          "text": [
            "+-----+---------+-----------+------------------+------------------+---------------------+------------------+\n",
            "| area|perimeter|compactness|  length_of_kernel|   width_of_kernel|asymmetry_coefficient|  length_of_groove|\n",
            "+-----+---------+-----------+------------------+------------------+---------------------+------------------+\n",
            "|15.26|    14.84|      0.871|             5.763|             3.312|                2.221|              5.22|\n",
            "|14.88|    14.57|     0.8811| 5.553999999999999|             3.333|                1.018|             4.956|\n",
            "|14.29|    14.09|      0.905|             5.291|3.3369999999999997|                2.699|             4.825|\n",
            "|13.84|    13.94|     0.8955|             5.324|3.3789999999999996|                2.259|             4.805|\n",
            "|16.14|    14.99|     0.9034|5.6579999999999995|             3.562|                1.355|             5.175|\n",
            "|14.38|    14.21|     0.8951|             5.386|             3.312|   2.4619999999999997|             4.956|\n",
            "|14.69|    14.49|     0.8799|             5.563|             3.259|   3.5860000000000003| 5.218999999999999|\n",
            "|14.11|     14.1|     0.8911|              5.42|             3.302|                  2.7|               5.0|\n",
            "|16.63|    15.46|     0.8747|             6.053|             3.465|                 2.04| 5.877000000000001|\n",
            "|16.44|    15.25|      0.888|5.8839999999999995|             3.505|                1.969|5.5329999999999995|\n",
            "|15.26|    14.85|     0.8696|5.7139999999999995|             3.242|                4.543|             5.314|\n",
            "|14.03|    14.16|     0.8796|             5.438|             3.201|   1.7169999999999999|             5.001|\n",
            "|13.89|    14.02|      0.888|             5.439|             3.199|                3.986|             4.738|\n",
            "|13.78|    14.06|     0.8759|             5.479|             3.156|                3.136|             4.872|\n",
            "|13.74|    14.05|     0.8744|             5.482|             3.114|                2.932|             4.825|\n",
            "|14.59|    14.28|     0.8993|             5.351|             3.333|                4.185| 4.781000000000001|\n",
            "|13.99|    13.83|     0.9183|             5.119|             3.383|                5.234| 4.781000000000001|\n",
            "|15.69|    14.75|     0.9058|             5.527|             3.514|                1.599|             5.046|\n",
            "| 14.7|    14.21|     0.9153|             5.205|             3.466|                1.767|             4.649|\n",
            "|12.72|    13.57|     0.8686|             5.226|             3.049|                4.102|             4.914|\n",
            "+-----+---------+-----------+------------------+------------------+---------------------+------------------+\n",
            "only showing top 20 rows\n",
            "\n"
          ]
        }
      ]
    },
    {
      "cell_type": "code",
      "source": [
        "data.columns"
      ],
      "metadata": {
        "colab": {
          "base_uri": "https://localhost:8080/"
        },
        "id": "u4ZpvBlSYlUe",
        "outputId": "c279f985-9d4b-41fe-9e30-0801243fc81b"
      },
      "execution_count": null,
      "outputs": [
        {
          "output_type": "execute_result",
          "data": {
            "text/plain": [
              "['area',\n",
              " 'perimeter',\n",
              " 'compactness',\n",
              " 'length_of_kernel',\n",
              " 'width_of_kernel',\n",
              " 'asymmetry_coefficient',\n",
              " 'length_of_groove']"
            ]
          },
          "metadata": {},
          "execution_count": 5
        }
      ]
    },
    {
      "cell_type": "code",
      "source": [
        "# convertiing the columns into feature to process in Kmeans\n",
        "vec_assemble = VectorAssembler(inputCols=data.columns,outputCol='Features')\n",
        "final_data = vec_assemble.transform(data)\n",
        "final_data.show()"
      ],
      "metadata": {
        "colab": {
          "base_uri": "https://localhost:8080/"
        },
        "id": "zs_QIKOtYUBe",
        "outputId": "28137f03-0f7b-48ac-f26e-4d67fb77df4e"
      },
      "execution_count": null,
      "outputs": [
        {
          "output_type": "stream",
          "name": "stdout",
          "text": [
            "+-----+---------+-----------+------------------+------------------+---------------------+------------------+--------------------+\n",
            "| area|perimeter|compactness|  length_of_kernel|   width_of_kernel|asymmetry_coefficient|  length_of_groove|            Features|\n",
            "+-----+---------+-----------+------------------+------------------+---------------------+------------------+--------------------+\n",
            "|15.26|    14.84|      0.871|             5.763|             3.312|                2.221|              5.22|[15.26,14.84,0.87...|\n",
            "|14.88|    14.57|     0.8811| 5.553999999999999|             3.333|                1.018|             4.956|[14.88,14.57,0.88...|\n",
            "|14.29|    14.09|      0.905|             5.291|3.3369999999999997|                2.699|             4.825|[14.29,14.09,0.90...|\n",
            "|13.84|    13.94|     0.8955|             5.324|3.3789999999999996|                2.259|             4.805|[13.84,13.94,0.89...|\n",
            "|16.14|    14.99|     0.9034|5.6579999999999995|             3.562|                1.355|             5.175|[16.14,14.99,0.90...|\n",
            "|14.38|    14.21|     0.8951|             5.386|             3.312|   2.4619999999999997|             4.956|[14.38,14.21,0.89...|\n",
            "|14.69|    14.49|     0.8799|             5.563|             3.259|   3.5860000000000003| 5.218999999999999|[14.69,14.49,0.87...|\n",
            "|14.11|     14.1|     0.8911|              5.42|             3.302|                  2.7|               5.0|[14.11,14.1,0.891...|\n",
            "|16.63|    15.46|     0.8747|             6.053|             3.465|                 2.04| 5.877000000000001|[16.63,15.46,0.87...|\n",
            "|16.44|    15.25|      0.888|5.8839999999999995|             3.505|                1.969|5.5329999999999995|[16.44,15.25,0.88...|\n",
            "|15.26|    14.85|     0.8696|5.7139999999999995|             3.242|                4.543|             5.314|[15.26,14.85,0.86...|\n",
            "|14.03|    14.16|     0.8796|             5.438|             3.201|   1.7169999999999999|             5.001|[14.03,14.16,0.87...|\n",
            "|13.89|    14.02|      0.888|             5.439|             3.199|                3.986|             4.738|[13.89,14.02,0.88...|\n",
            "|13.78|    14.06|     0.8759|             5.479|             3.156|                3.136|             4.872|[13.78,14.06,0.87...|\n",
            "|13.74|    14.05|     0.8744|             5.482|             3.114|                2.932|             4.825|[13.74,14.05,0.87...|\n",
            "|14.59|    14.28|     0.8993|             5.351|             3.333|                4.185| 4.781000000000001|[14.59,14.28,0.89...|\n",
            "|13.99|    13.83|     0.9183|             5.119|             3.383|                5.234| 4.781000000000001|[13.99,13.83,0.91...|\n",
            "|15.69|    14.75|     0.9058|             5.527|             3.514|                1.599|             5.046|[15.69,14.75,0.90...|\n",
            "| 14.7|    14.21|     0.9153|             5.205|             3.466|                1.767|             4.649|[14.7,14.21,0.915...|\n",
            "|12.72|    13.57|     0.8686|             5.226|             3.049|                4.102|             4.914|[12.72,13.57,0.86...|\n",
            "+-----+---------+-----------+------------------+------------------+---------------------+------------------+--------------------+\n",
            "only showing top 20 rows\n",
            "\n"
          ]
        }
      ]
    },
    {
      "cell_type": "code",
      "source": [
        "#Scaling of the data\n",
        "\n",
        "scData = StandardScaler(inputCol='Features',outputCol='scaledFeatures',\n",
        "                        withStd=True,withMean=False)\n",
        "\n",
        "final_data = scData.fit(final_data).transform(final_data)\n",
        "final_data.show()"
      ],
      "metadata": {
        "colab": {
          "base_uri": "https://localhost:8080/"
        },
        "id": "0Jq6tczCZDYG",
        "outputId": "cd27714f-e394-4be0-ffcc-bc783f7123a5"
      },
      "execution_count": null,
      "outputs": [
        {
          "output_type": "stream",
          "name": "stdout",
          "text": [
            "+-----+---------+-----------+------------------+------------------+---------------------+------------------+--------------------+--------------------+\n",
            "| area|perimeter|compactness|  length_of_kernel|   width_of_kernel|asymmetry_coefficient|  length_of_groove|            Features|      scaledFeatures|\n",
            "+-----+---------+-----------+------------------+------------------+---------------------+------------------+--------------------+--------------------+\n",
            "|15.26|    14.84|      0.871|             5.763|             3.312|                2.221|              5.22|[15.26,14.84,0.87...|[5.24452795332028...|\n",
            "|14.88|    14.57|     0.8811| 5.553999999999999|             3.333|                1.018|             4.956|[14.88,14.57,0.88...|[5.11393027165175...|\n",
            "|14.29|    14.09|      0.905|             5.291|3.3369999999999997|                2.699|             4.825|[14.29,14.09,0.90...|[4.91116018695588...|\n",
            "|13.84|    13.94|     0.8955|             5.324|3.3789999999999996|                2.259|             4.805|[13.84,13.94,0.89...|[4.75650503761158...|\n",
            "|16.14|    14.99|     0.9034|5.6579999999999995|             3.562|                1.355|             5.175|[16.14,14.99,0.90...|[5.54696468981581...|\n",
            "|14.38|    14.21|     0.8951|             5.386|             3.312|   2.4619999999999997|             4.956|[14.38,14.21,0.89...|[4.94209121682475...|\n",
            "|14.69|    14.49|     0.8799|             5.563|             3.259|   3.5860000000000003| 5.218999999999999|[14.69,14.49,0.87...|[5.04863143081749...|\n",
            "|14.11|     14.1|     0.8911|              5.42|             3.302|                  2.7|               5.0|[14.11,14.1,0.891...|[4.84929812721816...|\n",
            "|16.63|    15.46|     0.8747|             6.053|             3.465|                 2.04| 5.877000000000001|[16.63,15.46,0.87...|[5.71536696354628...|\n",
            "|16.44|    15.25|      0.888|5.8839999999999995|             3.505|                1.969|5.5329999999999995|[16.44,15.25,0.88...|[5.65006812271202...|\n",
            "|15.26|    14.85|     0.8696|5.7139999999999995|             3.242|                4.543|             5.314|[15.26,14.85,0.86...|[5.24452795332028...|\n",
            "|14.03|    14.16|     0.8796|             5.438|             3.201|   1.7169999999999999|             5.001|[14.03,14.16,0.87...|[4.82180387844584...|\n",
            "|13.89|    14.02|      0.888|             5.439|             3.199|                3.986|             4.738|[13.89,14.02,0.88...|[4.77368894309428...|\n",
            "|13.78|    14.06|     0.8759|             5.479|             3.156|                3.136|             4.872|[13.78,14.06,0.87...|[4.73588435103234...|\n",
            "|13.74|    14.05|     0.8744|             5.482|             3.114|                2.932|             4.825|[13.74,14.05,0.87...|[4.72213722664617...|\n",
            "|14.59|    14.28|     0.8993|             5.351|             3.333|                4.185| 4.781000000000001|[14.59,14.28,0.89...|[5.01426361985209...|\n",
            "|13.99|    13.83|     0.9183|             5.119|             3.383|                5.234| 4.781000000000001|[13.99,13.83,0.91...|[4.80805675405968...|\n",
            "|15.69|    14.75|     0.9058|             5.527|             3.514|                1.599|             5.046|[15.69,14.75,0.90...|[5.39230954047151...|\n",
            "| 14.7|    14.21|     0.9153|             5.205|             3.466|                1.767|             4.649|[14.7,14.21,0.915...|[5.05206821191403...|\n",
            "|12.72|    13.57|     0.8686|             5.226|             3.049|                4.102|             4.914|[12.72,13.57,0.86...|[4.37158555479908...|\n",
            "+-----+---------+-----------+------------------+------------------+---------------------+------------------+--------------------+--------------------+\n",
            "only showing top 20 rows\n",
            "\n"
          ]
        }
      ]
    },
    {
      "cell_type": "code",
      "source": [
        "#Train the K-means model\n",
        "\n",
        "kmModel = KMeans(featuresCol='scaledFeatures',k=4,predictionCol='predLabel')\n",
        "kmModelTr = kmModel.fit(final_data)\n",
        "\n",
        "\n"
      ],
      "metadata": {
        "colab": {
          "base_uri": "https://localhost:8080/"
        },
        "id": "OcbSgw-xaW4v",
        "outputId": "189720ca-abe7-449d-ba60-c8ead6d2bd01"
      },
      "execution_count": null,
      "outputs": [
        {
          "output_type": "execute_result",
          "data": {
            "text/plain": [
              "<bound method KMeansModel.clusterCenters of KMeansModel: uid=KMeans_4844224df85b, k=4, distanceMeasure=euclidean, numFeatures=7>"
            ]
          },
          "metadata": {},
          "execution_count": 10
        }
      ]
    },
    {
      "cell_type": "code",
      "source": [
        "output = kmModelTr.transform(final_data)\n",
        "output.select('predLabel').show()"
      ],
      "metadata": {
        "colab": {
          "base_uri": "https://localhost:8080/"
        },
        "id": "gZhiVJavbglo",
        "outputId": "ac73ae94-e259-46a9-b554-a78fc17f0740"
      },
      "execution_count": null,
      "outputs": [
        {
          "output_type": "stream",
          "name": "stdout",
          "text": [
            "+---------+\n",
            "|predLabel|\n",
            "+---------+\n",
            "|        1|\n",
            "|        1|\n",
            "|        1|\n",
            "|        1|\n",
            "|        1|\n",
            "|        1|\n",
            "|        1|\n",
            "|        1|\n",
            "|        0|\n",
            "|        1|\n",
            "|        1|\n",
            "|        1|\n",
            "|        1|\n",
            "|        1|\n",
            "|        1|\n",
            "|        1|\n",
            "|        2|\n",
            "|        1|\n",
            "|        1|\n",
            "|        2|\n",
            "+---------+\n",
            "only showing top 20 rows\n",
            "\n"
          ]
        }
      ]
    },
    {
      "cell_type": "code",
      "source": [
        "from pyspark.ml.evaluation import ClusteringEvaluator\n",
        "\n",
        "shEval = ClusteringEvaluator(featuresCol = 'scaledFeatures',predictionCol='predLabel')\n",
        "\n",
        "ssd = shEval.evaluate(output) # transform the final output of the kmeans\n",
        "print(ssd)"
      ],
      "metadata": {
        "colab": {
          "base_uri": "https://localhost:8080/"
        },
        "id": "5v3f-YeObyP5",
        "outputId": "58a48d90-77b9-4033-a6db-546d3872d3a6"
      },
      "execution_count": null,
      "outputs": [
        {
          "output_type": "stream",
          "name": "stdout",
          "text": [
            "0.5148598460324953\n"
          ]
        }
      ]
    },
    {
      "cell_type": "code",
      "source": [
        "cl=[2,3,4,5,6,7,8,9,10]\n",
        "for i in range(len(cl)):\n",
        "  kmModel = KMeans(featuresCol='scaledFeatures',k=cl[i],predictionCol='predLabel')\n",
        "  kmModelTr = kmModel.fit(final_data)\n",
        "  output = kmModelTr.transform(final_data)\n",
        "  shEval = ClusteringEvaluator(featuresCol = 'scaledFeatures',predictionCol='predLabel')\n",
        "  ssd = shEval.evaluate(output) # transform the final output of the kmeans\n",
        "  print(ssd,' ',end=' ')"
      ],
      "metadata": {
        "colab": {
          "base_uri": "https://localhost:8080/"
        },
        "id": "VoaJrzevb-27",
        "outputId": "672c2f1f-85e2-4058-b153-4aa02d68b479"
      },
      "execution_count": null,
      "outputs": [
        {
          "output_type": "stream",
          "name": "stdout",
          "text": [
            "0.6613125393827092   0.5928460631863854   0.5148598460324953   0.4567109949709705   0.45404640201475277   0.4349644654428388   0.3390901987865649   0.3975305231411343   0.36370972086120756   "
          ]
        }
      ]
    },
    {
      "cell_type": "code",
      "source": [
        "# train the model (kmeans) on the Mall customer dataset\n",
        "\n",
        "\n",
        "path = '/content/Mall_Customers.csv'\n",
        "\n",
        "data = spark.read.csv(path,header=True,inferSchema=True)\n",
        "data.show()"
      ],
      "metadata": {
        "colab": {
          "base_uri": "https://localhost:8080/"
        },
        "id": "hjIhFbDDfDPg",
        "outputId": "1725a2aa-5803-4801-f675-411d494f8319"
      },
      "execution_count": null,
      "outputs": [
        {
          "output_type": "stream",
          "name": "stdout",
          "text": [
            "+----------+------+---+------------+-------------+\n",
            "|CustomerID|Gender|Age|AnnualIncome|SpendingScore|\n",
            "+----------+------+---+------------+-------------+\n",
            "|         1|  Male| 19|          15|           39|\n",
            "|         2|  Male| 21|          15|           81|\n",
            "|         3|Female| 20|          16|            6|\n",
            "|         4|Female| 23|          16|           77|\n",
            "|         5|Female| 31|          17|           40|\n",
            "|         6|Female| 22|          17|           76|\n",
            "|         7|Female| 35|          18|            6|\n",
            "|         8|Female| 23|          18|           94|\n",
            "|         9|  Male| 64|          19|            3|\n",
            "|        10|Female| 30|          19|           72|\n",
            "|        11|  Male| 67|          19|           14|\n",
            "|        12|Female| 35|          19|           99|\n",
            "|        13|Female| 58|          20|           15|\n",
            "|        14|Female| 24|          20|           77|\n",
            "|        15|  Male| 37|          20|           13|\n",
            "|        16|  Male| 22|          20|           79|\n",
            "|        17|Female| 35|          21|           35|\n",
            "|        18|  Male| 20|          21|           66|\n",
            "|        19|  Male| 52|          23|           29|\n",
            "|        20|Female| 35|          23|           98|\n",
            "+----------+------+---+------------+-------------+\n",
            "only showing top 20 rows\n",
            "\n"
          ]
        }
      ]
    },
    {
      "cell_type": "code",
      "source": [
        "vec_assemble1 = VectorAssembler(inputCols=['AnnualIncome','SpendingScore'],outputCol='Features')\n",
        "final_data1 = vec_assemble1.transform(data)\n",
        "final_data1.show()"
      ],
      "metadata": {
        "colab": {
          "base_uri": "https://localhost:8080/"
        },
        "id": "g_dtj2fPh-Z6",
        "outputId": "94c46072-3245-4b7c-876b-29c2ba4dd7a3"
      },
      "execution_count": null,
      "outputs": [
        {
          "output_type": "stream",
          "name": "stdout",
          "text": [
            "+----------+------+---+------------+-------------+-----------+\n",
            "|CustomerID|Gender|Age|AnnualIncome|SpendingScore|   Features|\n",
            "+----------+------+---+------------+-------------+-----------+\n",
            "|         1|  Male| 19|          15|           39|[15.0,39.0]|\n",
            "|         2|  Male| 21|          15|           81|[15.0,81.0]|\n",
            "|         3|Female| 20|          16|            6| [16.0,6.0]|\n",
            "|         4|Female| 23|          16|           77|[16.0,77.0]|\n",
            "|         5|Female| 31|          17|           40|[17.0,40.0]|\n",
            "|         6|Female| 22|          17|           76|[17.0,76.0]|\n",
            "|         7|Female| 35|          18|            6| [18.0,6.0]|\n",
            "|         8|Female| 23|          18|           94|[18.0,94.0]|\n",
            "|         9|  Male| 64|          19|            3| [19.0,3.0]|\n",
            "|        10|Female| 30|          19|           72|[19.0,72.0]|\n",
            "|        11|  Male| 67|          19|           14|[19.0,14.0]|\n",
            "|        12|Female| 35|          19|           99|[19.0,99.0]|\n",
            "|        13|Female| 58|          20|           15|[20.0,15.0]|\n",
            "|        14|Female| 24|          20|           77|[20.0,77.0]|\n",
            "|        15|  Male| 37|          20|           13|[20.0,13.0]|\n",
            "|        16|  Male| 22|          20|           79|[20.0,79.0]|\n",
            "|        17|Female| 35|          21|           35|[21.0,35.0]|\n",
            "|        18|  Male| 20|          21|           66|[21.0,66.0]|\n",
            "|        19|  Male| 52|          23|           29|[23.0,29.0]|\n",
            "|        20|Female| 35|          23|           98|[23.0,98.0]|\n",
            "+----------+------+---+------------+-------------+-----------+\n",
            "only showing top 20 rows\n",
            "\n"
          ]
        }
      ]
    },
    {
      "cell_type": "code",
      "source": [
        "scData = StandardScaler(inputCol='Features',outputCol='scaledFeatures',\n",
        "                        withStd=True,withMean=False)\n",
        "\n",
        "final_data1 = scData.fit(final_data1).transform(final_data1)\n",
        "final_data1.show()"
      ],
      "metadata": {
        "colab": {
          "base_uri": "https://localhost:8080/"
        },
        "id": "w0-B2rJZi-wM",
        "outputId": "f0f3e66e-4b0e-432c-ab91-f18feedca747"
      },
      "execution_count": null,
      "outputs": [
        {
          "output_type": "stream",
          "name": "stdout",
          "text": [
            "+----------+------+---+------------+-------------+-----------+--------------------+\n",
            "|CustomerID|Gender|Age|AnnualIncome|SpendingScore|   Features|      scaledFeatures|\n",
            "+----------+------+---+------------+-------------+-----------+--------------------+\n",
            "|         1|  Male| 19|          15|           39|[15.0,39.0]|[0.57110829030364...|\n",
            "|         2|  Male| 21|          15|           81|[15.0,81.0]|[0.57110829030364...|\n",
            "|         3|Female| 20|          16|            6| [16.0,6.0]|[0.60918217632388...|\n",
            "|         4|Female| 23|          16|           77|[16.0,77.0]|[0.60918217632388...|\n",
            "|         5|Female| 31|          17|           40|[17.0,40.0]|[0.64725606234413...|\n",
            "|         6|Female| 22|          17|           76|[17.0,76.0]|[0.64725606234413...|\n",
            "|         7|Female| 35|          18|            6| [18.0,6.0]|[0.68532994836437...|\n",
            "|         8|Female| 23|          18|           94|[18.0,94.0]|[0.68532994836437...|\n",
            "|         9|  Male| 64|          19|            3| [19.0,3.0]|[0.72340383438461...|\n",
            "|        10|Female| 30|          19|           72|[19.0,72.0]|[0.72340383438461...|\n",
            "|        11|  Male| 67|          19|           14|[19.0,14.0]|[0.72340383438461...|\n",
            "|        12|Female| 35|          19|           99|[19.0,99.0]|[0.72340383438461...|\n",
            "|        13|Female| 58|          20|           15|[20.0,15.0]|[0.76147772040485...|\n",
            "|        14|Female| 24|          20|           77|[20.0,77.0]|[0.76147772040485...|\n",
            "|        15|  Male| 37|          20|           13|[20.0,13.0]|[0.76147772040485...|\n",
            "|        16|  Male| 22|          20|           79|[20.0,79.0]|[0.76147772040485...|\n",
            "|        17|Female| 35|          21|           35|[21.0,35.0]|[0.79955160642510...|\n",
            "|        18|  Male| 20|          21|           66|[21.0,66.0]|[0.79955160642510...|\n",
            "|        19|  Male| 52|          23|           29|[23.0,29.0]|[0.87569937846558...|\n",
            "|        20|Female| 35|          23|           98|[23.0,98.0]|[0.87569937846558...|\n",
            "+----------+------+---+------------+-------------+-----------+--------------------+\n",
            "only showing top 20 rows\n",
            "\n"
          ]
        }
      ]
    },
    {
      "cell_type": "code",
      "source": [
        "#Train the K-means model\n",
        "\n",
        "kmModel = KMeans(featuresCol='scaledFeatures',k=4,predictionCol='predLabel')\n",
        "kmModelTr = kmModel.fit(final_data1)\n",
        "\n",
        "output = kmModelTr.transform(final_data1)\n",
        "output.select('predLabel').show()"
      ],
      "metadata": {
        "colab": {
          "base_uri": "https://localhost:8080/"
        },
        "id": "nVFlugP2jVow",
        "outputId": "e6044f6c-58be-4842-8aa6-82a541725173"
      },
      "execution_count": null,
      "outputs": [
        {
          "output_type": "stream",
          "name": "stdout",
          "text": [
            "+---------+\n",
            "|predLabel|\n",
            "+---------+\n",
            "|        3|\n",
            "|        1|\n",
            "|        3|\n",
            "|        1|\n",
            "|        3|\n",
            "|        1|\n",
            "|        3|\n",
            "|        1|\n",
            "|        3|\n",
            "|        1|\n",
            "|        3|\n",
            "|        1|\n",
            "|        3|\n",
            "|        1|\n",
            "|        3|\n",
            "|        1|\n",
            "|        3|\n",
            "|        1|\n",
            "|        3|\n",
            "|        1|\n",
            "+---------+\n",
            "only showing top 20 rows\n",
            "\n"
          ]
        }
      ]
    },
    {
      "cell_type": "code",
      "source": [
        "shEval = ClusteringEvaluator(featuresCol = 'scaledFeatures',predictionCol='predLabel')\n",
        "\n",
        "ssd = shEval.evaluate(output) # transform the final output of the kmeans\n",
        "print(ssd)"
      ],
      "metadata": {
        "colab": {
          "base_uri": "https://localhost:8080/"
        },
        "id": "xlzER1XajlAn",
        "outputId": "0c9933a4-ea72-459a-9b20-9a87978b6346"
      },
      "execution_count": null,
      "outputs": [
        {
          "output_type": "stream",
          "name": "stdout",
          "text": [
            "0.5314957478395654\n"
          ]
        }
      ]
    },
    {
      "cell_type": "code",
      "source": [
        "cl=[2,3,4,5,6,7,8,9,10]\n",
        "for i in range(len(cl)):\n",
        "  kmModel = KMeans(featuresCol='scaledFeatures',k=cl[i],predictionCol='predLabel')\n",
        "  kmModelTr = kmModel.fit(final_data1)\n",
        "  output = kmModelTr.transform(final_data1)\n",
        "  ClusteringEvaluator()\n",
        "  shEval = ClusteringEvaluator(featuresCol = 'scaledFeatures',predictionCol='predLabel')\n",
        "  ssd = shEval.evaluate(output) # transform the final output of the kmeans\n",
        "  print(ssd)"
      ],
      "metadata": {
        "id": "V5xKFi0mj5YR"
      },
      "execution_count": null,
      "outputs": []
    },
    {
      "cell_type": "code",
      "source": [],
      "metadata": {
        "id": "05-xd_VOkCZ2"
      },
      "execution_count": null,
      "outputs": []
    }
  ]
}